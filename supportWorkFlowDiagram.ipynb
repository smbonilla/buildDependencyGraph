{
  "nbformat": 4,
  "nbformat_minor": 0,
  "metadata": {
    "colab": {
      "provenance": [],
      "authorship_tag": "ABX9TyOKOV/ZmmAC3/DCm9yu9ne+",
      "include_colab_link": true
    },
    "kernelspec": {
      "name": "python3",
      "display_name": "Python 3"
    },
    "language_info": {
      "name": "python"
    }
  },
  "cells": [
    {
      "cell_type": "markdown",
      "metadata": {
        "id": "view-in-github",
        "colab_type": "text"
      },
      "source": [
        "<a href=\"https://colab.research.google.com/github/smbonilla/buildDependencyGraph/blob/main/supportWorkFlowDiagram.ipynb\" target=\"_parent\"><img src=\"https://colab.research.google.com/assets/colab-badge.svg\" alt=\"Open In Colab\"/></a>"
      ]
    },
    {
      "cell_type": "markdown",
      "source": [
        "Create a script that will create a support workflow diagram. \n",
        "\n",
        "How to use: \n",
        "\n",
        "1. Change User Input section to system specifics. \n",
        "2. In menu at top of page > Runtime > Run All \n",
        "3. Scroll Down. \n",
        "4. Right Click and Save Image Support Workflow Diagram at the bottom of the page."
      ],
      "metadata": {
        "id": "dZ1B3rANV5Re"
      }
    },
    {
      "cell_type": "markdown",
      "source": [
        "### User Inputs \n",
        "\n",
        "`systemName` = (str) Name of system \n",
        "\n",
        "`numSteps` = (int) Number of escalation steps in support workflow (not including System User) \n",
        "\n",
        "`numInternal` = (int) Number of those escalation steps that are internal (i.e. not seen by System Users) \n",
        "\n",
        "`contactNames` = (list of str) List of contact names in order of support (i.e. `[\"MPBE Help Desk\", \"DHCT\", \"ATOS IT Service Desk\"]`)\n",
        "\n",
        "`contactInfo` = (list of str) List of contacts of emails or phone numbers in order of support (i.e. `[\"uclh.enquiry.mpb.helpdesk@nhs.net\",\"mpbit.uclh@nhs.net\",\"0203 447 9367\"]`)\n"
      ],
      "metadata": {
        "id": "P9z9p2tSVdh_"
      }
    },
    {
      "cell_type": "code",
      "source": [
        "systemName = 'Cadewell EMG Summit'\n",
        "\n",
        "numSteps = 3\n",
        "\n",
        "numInternal = 3 \n",
        "\n",
        "contactNames = [\"MPBE Helpdesk\", \"MPBE Scientific Computing\", \"Atos Service Desk\"]\n",
        "\n",
        "contactInfo = [\"uclh.enquiry.mpb.helpdesk@nhs.net\", \"mpbit.uclh@nhs.net\", \"0203 447 9367\"]"
      ],
      "metadata": {
        "id": "PZPEg5JwcyhN"
      },
      "execution_count": 7,
      "outputs": []
    },
    {
      "cell_type": "markdown",
      "source": [
        "### ----------------------------------------------------------Don't Change Code Below This ----------------------------------------------------------------------------"
      ],
      "metadata": {
        "id": "8aL_FmKRczMb"
      }
    },
    {
      "cell_type": "code",
      "source": [
        "import sys"
      ],
      "metadata": {
        "id": "CORKA0Yga3NP"
      },
      "execution_count": 8,
      "outputs": []
    },
    {
      "cell_type": "code",
      "source": [
        "if 'diagrams' not in sys.modules: \n",
        "  !pip install diagrams\n",
        "else: \n",
        "  print(\"diagrams package already installed. Skipping download...\")"
      ],
      "metadata": {
        "colab": {
          "base_uri": "https://localhost:8080/"
        },
        "id": "I_qYBK-QYz28",
        "outputId": "84c18de9-7296-419f-a673-65cdcec475be"
      },
      "execution_count": 9,
      "outputs": [
        {
          "output_type": "stream",
          "name": "stdout",
          "text": [
            "diagrams package already installed. Skipping download...\n"
          ]
        }
      ]
    },
    {
      "cell_type": "code",
      "source": [
        "# check that contact names and info match number of steps\n",
        "if numSteps != len(contactNames) or numSteps != len(contactInfo):\n",
        "  raise Exception(\"The number of Contact Names and Contact Information should match the number of steps\")"
      ],
      "metadata": {
        "id": "ADM7jHQGZI1m"
      },
      "execution_count": 10,
      "outputs": []
    },
    {
      "cell_type": "code",
      "source": [
        "from diagrams import Cluster, Diagram\n",
        "from diagrams.onprem.client import User as User"
      ],
      "metadata": {
        "id": "npCTropVfJrk"
      },
      "execution_count": 11,
      "outputs": []
    },
    {
      "cell_type": "code",
      "source": [
        "with Diagram(systemName, show=False) as diag:\n",
        "\n",
        "  user = User(f\"{systemName} User\")\n",
        "\n",
        "  for step in numSteps: \n",
        "    if step == numInternal:\n",
        "      with Cluster(\"Internal Escalation Steps\"):\n",
        "      if step <= numSteps: \n",
        "         \n",
        "          \n",
        "            \n",
        "\n",
        "  with Cluster(\"Services\"):\n",
        "    svc_group = [(\"web1\")]\n",
        "\n",
        "diag\n"
      ],
      "metadata": {
        "colab": {
          "base_uri": "https://localhost:8080/",
          "height": 634
        },
        "id": "JmMFnuremzwu",
        "outputId": "4fa4d4b6-d518-4134-e426-09c48336ed3f"
      },
      "execution_count": 17,
      "outputs": [
        {
          "output_type": "stream",
          "name": "stderr",
          "text": [
            "Warning: node 'b574f0bf840a481ea5c2d0c10688119d', graph 'Cadewell EMG Summit' size too small for label\n"
          ]
        },
        {
          "output_type": "execute_result",
          "data": {
            "text/plain": [
              "<diagrams.Diagram at 0x7fe805eca3d0>"
            ],
            "image/png": "[encoded data removed]"
          },
          "metadata": {},
          "execution_count": 17
        }
      ]
    },
    {
      "cell_type": "code",
      "source": [],
      "metadata": {
        "id": "XF4Ps4-RrMHv"
      },
      "execution_count": null,
      "outputs": []
    }
  ]
}